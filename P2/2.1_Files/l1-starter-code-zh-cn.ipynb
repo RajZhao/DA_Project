{
 "cells": [
  {
   "cell_type": "markdown",
   "metadata": {},
   "source": [
    "在开始之前，使用 iPython 笔记本时有几点需要注意一下：\n",
    "\n",
    "- 如果代码单元格被运行之后，在单元格的左侧方框中会有数字出现。\n",
    "- 当你启动一个新的笔记本会话时，请确保运行所有单元格（从第1个到你上次离开的单元格）。即使笔记本中依然可以看到上次运行所得到的输出，你重新运行的笔记本内核却处于一个完全新的状态，所以你需要重载数据和运行代码。\n",
    "- 上一条注意事项特别重要。当你的答案和课程中的练习不一致时，请试着重载数据并一个一个运行代码单元格，以确保你所操作的变量和数据和练习中的一致。\n",
    "\n",
    "\n",
    "## 从 CSV 加载数据"
   ]
  },
  {
   "cell_type": "code",
   "execution_count": 1,
   "metadata": {
    "collapsed": true
   },
   "outputs": [],
   "source": [
    "import unicodecsv\n",
    "\n",
    "## 长代码版本 (该版本与短代码版本功能一致)\n",
    "\n",
    "# enrollments = []\n",
    "# f = open('enrollments.csv', 'rb')\n",
    "# reader = unicodecsv.DictReader(f)\n",
    "# for row in reader:\n",
    "#     enrollments.append(row)\n",
    "# f.close()\n",
    "\n",
    "with open('enrollments.csv', 'rb') as f:\n",
    "    reader = unicodecsv.DictReader(f)\n",
    "    enrollments = list(reader)"
   ]
  },
  {
   "cell_type": "code",
   "execution_count": 2,
   "metadata": {
    "collapsed": true
   },
   "outputs": [],
   "source": [
    "#####################################\n",
    "#                 1                 #\n",
    "#####################################\n",
    "\n",
    "## 从 daily_engagement.csv 和 project_submissions.csv 载入数据并存\n",
    "## 储至下面的变量中，然后检查每张表的第1行。\n",
    "def read_csv(filename):\n",
    "\n",
    "    with open(filename, 'rb') as f:\n",
    "        reader = unicodecsv.DictReader(f)\n",
    "        return list(reader)\n",
    "engagement_filename = 'E:/Udacity_DA/DAND-Basic-Materials-master/P2/2.1_Files/daily-engagement.csv'\n",
    "submissions_filename = 'E:/Udacity_DA/DAND-Basic-Materials-master/P2/2.1_Files/project-submissions.csv'\n",
    "    \n",
    "daily_engagement = read_csv(engagement_filename)     # Replace this with your code\n",
    "project_submissions = read_csv(submissions_filename)  # Replace this with your code"
   ]
  },
  {
   "cell_type": "markdown",
   "metadata": {},
   "source": [
    "## 修正数据类型"
   ]
  },
  {
   "cell_type": "code",
   "execution_count": 3,
   "metadata": {},
   "outputs": [
    {
     "data": {
      "text/plain": [
       "{u'account_key': u'448',\n",
       " u'cancel_date': datetime.datetime(2015, 1, 14, 0, 0),\n",
       " u'days_to_cancel': 65,\n",
       " u'is_canceled': True,\n",
       " u'is_udacity': True,\n",
       " u'join_date': datetime.datetime(2014, 11, 10, 0, 0),\n",
       " u'status': u'canceled'}"
      ]
     },
     "execution_count": 3,
     "metadata": {},
     "output_type": "execute_result"
    }
   ],
   "source": [
    "from datetime import datetime as dt\n",
    "\n",
    "# 将字符串格式的时间转为 Python datetime 类型的时间。\n",
    "# 如果没有时间字符串传入，返回 None\n",
    "\n",
    "def parse_date(date):\n",
    "    if date == '':\n",
    "        return None\n",
    "    else:\n",
    "        return dt.strptime(date, '%Y-%m-%d')\n",
    "    \n",
    "# 将可能是空字符串或字符串类型的数据转为 整型 或 None。\n",
    "\n",
    "def parse_maybe_int(i):\n",
    "    if i == '':\n",
    "        return None\n",
    "    else:\n",
    "        return int(i)\n",
    "\n",
    "# 清理 enrollments 表格中的数据类型\n",
    "\n",
    "for enrollment in enrollments:\n",
    "    enrollment['cancel_date'] = parse_date(enrollment['cancel_date'])\n",
    "    enrollment['days_to_cancel'] = parse_maybe_int(enrollment['days_to_cancel'])\n",
    "    enrollment['is_canceled'] = enrollment['is_canceled'] == 'True'\n",
    "    enrollment['is_udacity'] = enrollment['is_udacity'] == 'True'\n",
    "    enrollment['join_date'] = parse_date(enrollment['join_date'])\n",
    "    \n",
    "enrollments[0]"
   ]
  },
  {
   "cell_type": "code",
   "execution_count": 4,
   "metadata": {},
   "outputs": [
    {
     "data": {
      "text/plain": [
       "{u'acct': u'0',\n",
       " u'lessons_completed': 0,\n",
       " u'num_courses_visited': 1,\n",
       " u'projects_completed': 0,\n",
       " u'total_minutes_visited': 11.6793745,\n",
       " u'utc_date': datetime.datetime(2015, 1, 9, 0, 0)}"
      ]
     },
     "execution_count": 4,
     "metadata": {},
     "output_type": "execute_result"
    }
   ],
   "source": [
    "# 清理 engagement 的数据类型\n",
    "for engagement_record in daily_engagement:\n",
    "    engagement_record['lessons_completed'] = int(float(engagement_record['lessons_completed']))\n",
    "    engagement_record['num_courses_visited'] = int(float(engagement_record['num_courses_visited']))\n",
    "    engagement_record['projects_completed'] = int(float(engagement_record['projects_completed']))\n",
    "    engagement_record['total_minutes_visited'] = float(engagement_record['total_minutes_visited'])\n",
    "    engagement_record['utc_date'] = parse_date(engagement_record['utc_date'])\n",
    "    \n",
    "daily_engagement[0]"
   ]
  },
  {
   "cell_type": "code",
   "execution_count": 5,
   "metadata": {},
   "outputs": [
    {
     "data": {
      "text/plain": [
       "{u'account_key': u'256',\n",
       " u'assigned_rating': u'UNGRADED',\n",
       " u'completion_date': datetime.datetime(2015, 1, 16, 0, 0),\n",
       " u'creation_date': datetime.datetime(2015, 1, 14, 0, 0),\n",
       " u'lesson_key': u'3176718735',\n",
       " u'processing_state': u'EVALUATED'}"
      ]
     },
     "execution_count": 5,
     "metadata": {},
     "output_type": "execute_result"
    }
   ],
   "source": [
    "# 清理 submissions 的数据类型\n",
    "for submission in project_submissions:\n",
    "    submission['completion_date'] = parse_date(submission['completion_date'])\n",
    "    submission['creation_date'] = parse_date(submission['creation_date'])\n",
    "\n",
    "project_submissions[0]"
   ]
  },
  {
   "cell_type": "markdown",
   "metadata": {},
   "source": [
    "注意：当我们在运行上方的单元格时，我们已经改变了数据变量中的内容。如果你试着在同一个会话多次运行这些单元格时，可能会出错。\n",
    "\n",
    "## 探索数据"
   ]
  },
  {
   "cell_type": "code",
   "execution_count": 6,
   "metadata": {
    "collapsed": true
   },
   "outputs": [],
   "source": [
    "#####################################\n",
    "#                 2                 #\n",
    "#####################################\n",
    "\n",
    "## 计算每张表中的总行数，和独立学生（拥有独立的 account keys）的数量\n",
    "\n",
    "\n",
    "\n",
    "\n",
    "def get_num_unique_students(element_csv):\n",
    "    en_num=[]\n",
    "    for x in element_csv:\n",
    "        if x[u'account_key'] not in en_num:\n",
    "            en_num.append(x[u'account_key'])\n",
    "    return len(en_num)\n",
    "def get_num_daily(element_csv):\n",
    "    en_num=[]\n",
    "    for x in element_csv:\n",
    "        if x[u'acct'] not in en_num:\n",
    "            en_num.append(x[u'acct'])\n",
    "    return len(en_num)\n",
    "    \n",
    "enrollment_num_rows = len(enrollments) # Replace this with your code\n",
    "enrollment_num_unique_students = get_num_unique_students(enrollments)  # Replace this with your code\n",
    "# print enrollment_num_rows\n",
    "# print enrollment_num_unique_students\n",
    "\n",
    "engagement_num_rows = len(daily_engagement)             # Replace this with your code\n",
    "engagement_num_unique_students = get_num_daily(daily_engagement)  # Replace this with your code\n",
    "\n",
    "submission_num_rows = len(project_submissions)  # Replace this with your code\n",
    "submission_num_unique_students = get_num_unique_students(project_submissions) # Replace this with your code\n",
    "# print submission_num_unique_students\n",
    "# a=set()\n",
    "# a.add(1)\n",
    "# a.add(2)\n",
    "# a.add(1)\n",
    "# print a"
   ]
  },
  {
   "cell_type": "markdown",
   "metadata": {},
   "source": [
    "## 数据中的问题"
   ]
  },
  {
   "cell_type": "code",
   "execution_count": 7,
   "metadata": {},
   "outputs": [
    {
     "name": "stdout",
     "output_type": "stream",
     "text": [
      "0\n"
     ]
    }
   ],
   "source": [
    "#####################################\n",
    "#                 3                 #\n",
    "#####################################\n",
    "for x in daily_engagement:\n",
    "    x[u'account_key']=x[u'acct']\n",
    "    del x[u'acct']\n",
    "print daily_engagement[0][u'account_key']\n",
    "\n",
    "## 将 daily_engagement 表中的 \"acct\" 重命名为 ”account_key\"\n"
   ]
  },
  {
   "cell_type": "code",
   "execution_count": 8,
   "metadata": {
    "collapsed": true
   },
   "outputs": [],
   "source": [
    "def get_uniqe_student(data):\n",
    "    unique_student=set()\n",
    "    for data_point in data:\n",
    "        unique_student.add(data_point['account_key'])\n",
    "    return unique_student"
   ]
  },
  {
   "cell_type": "markdown",
   "metadata": {},
   "source": [
    "## 缺失的互动（Engagement）记录"
   ]
  },
  {
   "cell_type": "code",
   "execution_count": 9,
   "metadata": {},
   "outputs": [
    {
     "name": "stdout",
     "output_type": "stream",
     "text": [
      "{u'status': u'canceled', u'is_udacity': False, u'is_canceled': True, u'join_date': datetime.datetime(2014, 11, 12, 0, 0), u'account_key': u'1219', u'cancel_date': datetime.datetime(2014, 11, 12, 0, 0), u'days_to_cancel': 0}\n"
     ]
    }
   ],
   "source": [
    "#####################################\n",
    "#                 4                 #\n",
    "#####################################\n",
    "\n",
    "## 找到任意一个 enrollments 中的学生，但不在 daily engagement 表中。\n",
    "## 打印出这条 enrollments 记录。\n",
    "u_enrollments=get_uniqe_student(enrollments)\n",
    "u_daily=get_uniqe_student(daily_engagement)\n",
    "for x in enrollments:\n",
    "    if x[u'account_key'] not in u_daily:\n",
    "        print x\n",
    "        break\n"
   ]
  },
  {
   "cell_type": "markdown",
   "metadata": {},
   "source": [
    "## 检查更多的问题记录"
   ]
  },
  {
   "cell_type": "code",
   "execution_count": 10,
   "metadata": {},
   "outputs": [
    {
     "name": "stdout",
     "output_type": "stream",
     "text": [
      "{u'status': u'canceled', u'is_udacity': True, u'is_canceled': True, u'join_date': datetime.datetime(2015, 1, 10, 0, 0), u'account_key': u'1304', u'cancel_date': datetime.datetime(2015, 3, 10, 0, 0), u'days_to_cancel': 59}\n",
      "{u'status': u'canceled', u'is_udacity': True, u'is_canceled': True, u'join_date': datetime.datetime(2015, 3, 10, 0, 0), u'account_key': u'1304', u'cancel_date': datetime.datetime(2015, 6, 17, 0, 0), u'days_to_cancel': 99}\n",
      "{u'status': u'current', u'is_udacity': True, u'is_canceled': False, u'join_date': datetime.datetime(2015, 2, 25, 0, 0), u'account_key': u'1101', u'cancel_date': None, u'days_to_cancel': None}\n"
     ]
    },
    {
     "data": {
      "text/plain": [
       "3"
      ]
     },
     "execution_count": 10,
     "metadata": {},
     "output_type": "execute_result"
    }
   ],
   "source": [
    "#####################################\n",
    "#                 5                 #\n",
    "#####################################\n",
    "## 计算无众不同的数据点条数（在 enrollments 中存在，但在 engagement 表中缺失）\n",
    "# e_en=[]\n",
    "# for m in enrollments:\n",
    "#     if m[u'days_to_cancel']!=0:\n",
    "#         e_en.append(m[u'account_key'])\n",
    "# n=e_en-u_daily\n",
    "# print n\n",
    "# print len(n)\n",
    "num_problem_students = 0\n",
    "for enrollment in enrollments:\n",
    "    student = enrollment[u'account_key']\n",
    "    if (student not in u_daily and \n",
    "            enrollment[u'join_date'] != enrollment[u'cancel_date']):\n",
    "        print enrollment\n",
    "        num_problem_students += 1\n",
    "\n",
    "num_problem_students"
   ]
  },
  {
   "cell_type": "markdown",
   "metadata": {},
   "source": [
    "## 追踪剩余的问题"
   ]
  },
  {
   "cell_type": "code",
   "execution_count": 11,
   "metadata": {},
   "outputs": [
    {
     "data": {
      "text/plain": [
       "6"
      ]
     },
     "execution_count": 11,
     "metadata": {},
     "output_type": "execute_result"
    }
   ],
   "source": [
    "# 为所有 Udacity 测试帐号建立一组 set \n",
    "udacity_test_accounts = set()\n",
    "for enrollment in enrollments:\n",
    "    if enrollment['is_udacity']:\n",
    "        udacity_test_accounts.add(enrollment['account_key'])\n",
    "len(udacity_test_accounts)"
   ]
  },
  {
   "cell_type": "code",
   "execution_count": 12,
   "metadata": {
    "collapsed": true
   },
   "outputs": [],
   "source": [
    "# 通过 account_key 删除所有 Udacity 的测试帐号\n",
    "def remove_udacity_accounts(data):\n",
    "    non_udacity_data = []\n",
    "    for data_point in data:\n",
    "        if data_point['account_key'] not in udacity_test_accounts:\n",
    "            non_udacity_data.append(data_point)\n",
    "    return non_udacity_data"
   ]
  },
  {
   "cell_type": "code",
   "execution_count": 13,
   "metadata": {},
   "outputs": [
    {
     "name": "stdout",
     "output_type": "stream",
     "text": [
      "1622\n",
      "135656\n",
      "3634\n"
     ]
    }
   ],
   "source": [
    "# 从3张表中移除所有 Udacity 的测试帐号\n",
    "non_udacity_enrollments = remove_udacity_accounts(enrollments)\n",
    "non_udacity_engagement = remove_udacity_accounts(daily_engagement)\n",
    "non_udacity_submissions = remove_udacity_accounts(project_submissions)\n",
    "\n",
    "print len(non_udacity_enrollments)\n",
    "print len(non_udacity_engagement)\n",
    "print len(non_udacity_submissions)"
   ]
  },
  {
   "cell_type": "markdown",
   "metadata": {},
   "source": [
    "## 重新定义问题"
   ]
  },
  {
   "cell_type": "code",
   "execution_count": 20,
   "metadata": {},
   "outputs": [
    {
     "name": "stdout",
     "output_type": "stream",
     "text": [
      "995\n",
      "{u'1200': datetime.datetime(2015, 3, 4, 0, 0), u'1175': datetime.datetime(2015, 4, 2, 0, 0), u'1269': datetime.datetime(2015, 8, 21, 0, 0), u'669': datetime.datetime(2015, 5, 12, 0, 0), u'1257': datetime.datetime(2015, 7, 9, 0, 0), u'344': datetime.datetime(2015, 1, 11, 0, 0), u'345': datetime.datetime(2015, 1, 7, 0, 0), u'346': datetime.datetime(2014, 12, 8, 0, 0), u'347': datetime.datetime(2015, 4, 5, 0, 0), u'340': datetime.datetime(2015, 4, 1, 0, 0), u'341': datetime.datetime(2015, 5, 10, 0, 0), u'342': datetime.datetime(2014, 12, 5, 0, 0), u'343': datetime.datetime(2014, 12, 7, 0, 0), u'811': datetime.datetime(2015, 5, 6, 0, 0), u'812': datetime.datetime(2015, 7, 9, 0, 0), u'348': datetime.datetime(2015, 2, 5, 0, 0), u'349': datetime.datetime(2015, 4, 3, 0, 0), u'816': datetime.datetime(2015, 8, 20, 0, 0), u'918': datetime.datetime(2015, 4, 6, 0, 0), u'1149': datetime.datetime(2015, 4, 1, 0, 0), u'719': datetime.datetime(2014, 11, 17, 0, 0), u'718': datetime.datetime(2015, 5, 8, 0, 0), u'715': datetime.datetime(2015, 5, 12, 0, 0), u'426': datetime.datetime(2015, 5, 7, 0, 0), u'713': datetime.datetime(2015, 5, 12, 0, 0), u'712': datetime.datetime(2014, 11, 13, 0, 0), u'710': datetime.datetime(2015, 2, 3, 0, 0), u'661': datetime.datetime(2015, 5, 12, 0, 0), u'660': datetime.datetime(2014, 12, 3, 0, 0), u'594': datetime.datetime(2014, 12, 5, 0, 0), u'422': datetime.datetime(2015, 5, 8, 0, 0), u'1060': datetime.datetime(2015, 1, 11, 0, 0), u'1062': datetime.datetime(2015, 5, 10, 0, 0), u'619': datetime.datetime(2015, 6, 6, 0, 0), u'1066': datetime.datetime(2015, 3, 10, 0, 0), u'427': datetime.datetime(2015, 1, 9, 0, 0), u'298': datetime.datetime(2015, 5, 8, 0, 0), u'299': datetime.datetime(2015, 4, 24, 0, 0), u'296': datetime.datetime(2015, 6, 8, 0, 0), u'297': datetime.datetime(2015, 1, 12, 0, 0), u'294': datetime.datetime(2015, 6, 4, 0, 0), u'295': datetime.datetime(2015, 4, 3, 0, 0), u'292': datetime.datetime(2014, 12, 5, 0, 0), u'293': datetime.datetime(2015, 5, 10, 0, 0), u'290': datetime.datetime(2015, 5, 30, 0, 0), u'291': datetime.datetime(2015, 4, 2, 0, 0), u'1128': datetime.datetime(2015, 3, 11, 0, 0), u'590': datetime.datetime(2015, 2, 3, 0, 0), u'593': datetime.datetime(2015, 4, 2, 0, 0), u'592': datetime.datetime(2015, 1, 7, 0, 0), u'595': datetime.datetime(2014, 11, 10, 0, 0), u'198': datetime.datetime(2014, 11, 10, 0, 0), u'597': datetime.datetime(2015, 1, 12, 0, 0), u'596': datetime.datetime(2015, 5, 12, 0, 0), u'195': datetime.datetime(2014, 11, 10, 0, 0), u'1121': datetime.datetime(2015, 1, 12, 0, 0), u'197': datetime.datetime(2015, 1, 7, 0, 0), u'1123': datetime.datetime(2015, 4, 3, 0, 0), u'1124': datetime.datetime(2015, 2, 3, 0, 0), u'1139': datetime.datetime(2014, 11, 11, 0, 0), u'193': datetime.datetime(2015, 4, 1, 0, 0), u'1088': datetime.datetime(2015, 4, 3, 0, 0), u'270': datetime.datetime(2015, 1, 9, 0, 0), u'271': datetime.datetime(2015, 7, 8, 0, 0), u'272': datetime.datetime(2015, 1, 8, 0, 0), u'273': datetime.datetime(2014, 11, 14, 0, 0), u'274': datetime.datetime(2015, 5, 6, 0, 0), u'275': datetime.datetime(2014, 11, 16, 0, 0), u'276': datetime.datetime(2015, 5, 10, 0, 0), u'277': datetime.datetime(2014, 11, 15, 0, 0), u'278': datetime.datetime(2014, 12, 4, 0, 0), u'279': datetime.datetime(2015, 4, 8, 0, 0), u'497': datetime.datetime(2015, 5, 12, 0, 0), u'1067': datetime.datetime(2015, 8, 22, 0, 0), u'524': datetime.datetime(2015, 3, 4, 0, 0), u'525': datetime.datetime(2014, 11, 10, 0, 0), u'526': datetime.datetime(2015, 7, 16, 0, 0), u'527': datetime.datetime(2015, 1, 9, 0, 0), u'520': datetime.datetime(2014, 11, 10, 0, 0), u'1019': datetime.datetime(2014, 11, 11, 0, 0), u'522': datetime.datetime(2014, 11, 10, 0, 0), u'523': datetime.datetime(2015, 3, 10, 0, 0), u'1014': datetime.datetime(2015, 7, 18, 0, 0), u'1015': datetime.datetime(2014, 12, 3, 0, 0), u'528': datetime.datetime(2015, 4, 3, 0, 0), u'1011': datetime.datetime(2015, 4, 8, 0, 0), u'1013': datetime.datetime(2015, 4, 1, 0, 0), u'1235': datetime.datetime(2015, 8, 12, 0, 0), u'1236': datetime.datetime(2014, 12, 5, 0, 0), u'1231': datetime.datetime(2015, 7, 9, 0, 0), u'443': datetime.datetime(2014, 11, 10, 0, 0), u'442': datetime.datetime(2015, 5, 14, 0, 0), u'441': datetime.datetime(2014, 11, 12, 0, 0), u'440': datetime.datetime(2014, 11, 11, 0, 0), u'447': datetime.datetime(2015, 4, 24, 0, 0), u'446': datetime.datetime(2015, 1, 7, 0, 0), u'445': datetime.datetime(2015, 5, 13, 0, 0), u'444': datetime.datetime(2015, 4, 8, 0, 0), u'47': datetime.datetime(2015, 7, 16, 0, 0), u'108': datetime.datetime(2015, 4, 20, 0, 0), u'109': datetime.datetime(2015, 5, 6, 0, 0), u'598': datetime.datetime(2015, 1, 12, 0, 0), u'103': datetime.datetime(2015, 1, 7, 0, 0), u'100': datetime.datetime(2015, 2, 5, 0, 0), u'101': datetime.datetime(2014, 11, 12, 0, 0), u'106': datetime.datetime(2014, 11, 11, 0, 0), u'107': datetime.datetime(2015, 4, 24, 0, 0), u'104': datetime.datetime(2015, 4, 10, 0, 0), u'105': datetime.datetime(2015, 4, 7, 0, 0), u'1262': datetime.datetime(2015, 6, 9, 0, 0), u'900': datetime.datetime(2015, 5, 11, 0, 0), u'38': datetime.datetime(2014, 11, 14, 0, 0), u'906': datetime.datetime(2014, 11, 17, 0, 0), u'905': datetime.datetime(2015, 1, 8, 0, 0), u'33': datetime.datetime(2015, 1, 12, 0, 0), u'32': datetime.datetime(2015, 1, 8, 0, 0), u'31': datetime.datetime(2014, 11, 10, 0, 0), u'909': datetime.datetime(2014, 12, 5, 0, 0), u'37': datetime.datetime(2014, 11, 14, 0, 0), u'36': datetime.datetime(2015, 5, 13, 0, 0), u'35': datetime.datetime(2015, 2, 8, 0, 0), u'34': datetime.datetime(2015, 2, 3, 0, 0), u'1212': datetime.datetime(2015, 7, 19, 0, 0), u'640': datetime.datetime(2015, 3, 10, 0, 0), u'643': datetime.datetime(2015, 2, 3, 0, 0), u'642': datetime.datetime(2015, 1, 11, 0, 0), u'645': datetime.datetime(2015, 2, 9, 0, 0), u'1244': datetime.datetime(2015, 5, 17, 0, 0), u'1247': datetime.datetime(2015, 3, 5, 0, 0), u'439': datetime.datetime(2015, 3, 10, 0, 0), u'649': datetime.datetime(2014, 11, 10, 0, 0), u'1248': datetime.datetime(2015, 4, 6, 0, 0), u'434': datetime.datetime(2015, 1, 12, 0, 0), u'435': datetime.datetime(2015, 2, 6, 0, 0), u'432': datetime.datetime(2015, 3, 9, 0, 0), u'433': datetime.datetime(2015, 4, 8, 0, 0), u'430': datetime.datetime(2015, 7, 10, 0, 0), u'431': datetime.datetime(2014, 11, 10, 0, 0), u'753': datetime.datetime(2015, 3, 5, 0, 0), u'339': datetime.datetime(2015, 3, 10, 0, 0), u'338': datetime.datetime(2015, 5, 11, 0, 0), u'335': datetime.datetime(2014, 11, 12, 0, 0), u'334': datetime.datetime(2015, 3, 10, 0, 0), u'337': datetime.datetime(2015, 2, 10, 0, 0), u'336': datetime.datetime(2014, 11, 10, 0, 0), u'331': datetime.datetime(2015, 5, 11, 0, 0), u'45': datetime.datetime(2015, 3, 10, 0, 0), u'333': datetime.datetime(2015, 4, 1, 0, 0), u'332': datetime.datetime(2015, 8, 11, 0, 0), u'89': datetime.datetime(2015, 5, 7, 0, 0), u'559': datetime.datetime(2015, 5, 7, 0, 0), u'1151': datetime.datetime(2015, 5, 11, 0, 0), u'855': datetime.datetime(2014, 11, 14, 0, 0), u'856': datetime.datetime(2015, 7, 18, 0, 0), u'857': datetime.datetime(2015, 4, 8, 0, 0), u'851': datetime.datetime(2015, 8, 22, 0, 0), u'852': datetime.datetime(2015, 5, 12, 0, 0), u'0': datetime.datetime(2015, 1, 9, 0, 0), u'249': datetime.datetime(2015, 5, 12, 0, 0), u'858': datetime.datetime(2015, 5, 12, 0, 0), u'859': datetime.datetime(2015, 1, 11, 0, 0), u'748': datetime.datetime(2015, 6, 8, 0, 0), u'6': datetime.datetime(2015, 6, 5, 0, 0), u'39': datetime.datetime(2015, 7, 17, 0, 0), u'99': datetime.datetime(2015, 1, 13, 0, 0), u'98': datetime.datetime(2015, 4, 2, 0, 0), u'91': datetime.datetime(2015, 3, 10, 0, 0), u'90': datetime.datetime(2015, 4, 1, 0, 0), u'93': datetime.datetime(2015, 1, 7, 0, 0), u'92': datetime.datetime(2014, 11, 12, 0, 0), u'94': datetime.datetime(2015, 4, 24, 0, 0), u'97': datetime.datetime(2015, 4, 8, 0, 0), u'96': datetime.datetime(2014, 11, 17, 0, 0), u'1216': datetime.datetime(2015, 7, 16, 0, 0), u'314': datetime.datetime(2015, 5, 11, 0, 0), u'519': datetime.datetime(2015, 5, 11, 0, 0), u'153': datetime.datetime(2014, 12, 7, 0, 0), u'742': datetime.datetime(2015, 8, 14, 0, 0), u'743': datetime.datetime(2014, 12, 9, 0, 0), u'744': datetime.datetime(2014, 11, 14, 0, 0), u'558': datetime.datetime(2014, 12, 3, 0, 0), u'746': datetime.datetime(2015, 2, 5, 0, 0), u'747': datetime.datetime(2015, 4, 2, 0, 0), u'555': datetime.datetime(2015, 4, 9, 0, 0), u'554': datetime.datetime(2015, 6, 7, 0, 0), u'557': datetime.datetime(2015, 2, 3, 0, 0), u'556': datetime.datetime(2015, 5, 12, 0, 0), u'551': datetime.datetime(2015, 4, 24, 0, 0), u'550': datetime.datetime(2015, 5, 28, 0, 0), u'553': datetime.datetime(2014, 11, 10, 0, 0), u'552': datetime.datetime(2015, 8, 14, 0, 0), u'238': datetime.datetime(2015, 7, 13, 0, 0), u'239': datetime.datetime(2015, 3, 4, 0, 0), u'234': datetime.datetime(2014, 11, 11, 0, 0), u'235': datetime.datetime(2015, 5, 11, 0, 0), u'236': datetime.datetime(2015, 5, 10, 0, 0), u'237': datetime.datetime(2015, 5, 10, 0, 0), u'230': datetime.datetime(2014, 11, 10, 0, 0), u'231': datetime.datetime(2014, 11, 14, 0, 0), u'232': datetime.datetime(2015, 1, 8, 0, 0), u'233': datetime.datetime(2015, 3, 6, 0, 0), u'1199': datetime.datetime(2014, 12, 8, 0, 0), u'1198': datetime.datetime(2015, 3, 4, 0, 0), u'1052': datetime.datetime(2015, 5, 12, 0, 0), u'1053': datetime.datetime(2015, 1, 11, 0, 0), u'1054': datetime.datetime(2015, 4, 7, 0, 0), u'1055': datetime.datetime(2015, 5, 8, 0, 0), u'1056': datetime.datetime(2015, 8, 12, 0, 0), u'1058': datetime.datetime(2015, 3, 10, 0, 0), u'992': datetime.datetime(2015, 7, 17, 0, 0), u'1194': datetime.datetime(2015, 3, 11, 0, 0), u'1': datetime.datetime(2015, 5, 6, 0, 0), u'614': datetime.datetime(2015, 3, 6, 0, 0), u'155': datetime.datetime(2014, 11, 14, 0, 0), u'1099': datetime.datetime(2015, 5, 11, 0, 0), u'146': datetime.datetime(2015, 4, 24, 0, 0), u'147': datetime.datetime(2014, 12, 3, 0, 0), u'618': datetime.datetime(2014, 12, 5, 0, 0), u'1174': datetime.datetime(2015, 2, 3, 0, 0), u'1173': datetime.datetime(2015, 5, 8, 0, 0), u'143': datetime.datetime(2015, 2, 9, 0, 0), u'140': datetime.datetime(2014, 11, 10, 0, 0), u'141': datetime.datetime(2015, 3, 7, 0, 0), u'612': datetime.datetime(2014, 11, 10, 0, 0), u'613': datetime.datetime(2014, 12, 5, 0, 0), u'610': datetime.datetime(2015, 1, 7, 0, 0), u'611': datetime.datetime(2014, 12, 8, 0, 0), u'616': datetime.datetime(2015, 5, 28, 0, 0), u'617': datetime.datetime(2014, 11, 12, 0, 0), u'148': datetime.datetime(2015, 3, 10, 0, 0), u'1277': datetime.datetime(2014, 11, 14, 0, 0), u'1007': datetime.datetime(2015, 5, 12, 0, 0), u'912': datetime.datetime(2015, 6, 6, 0, 0), u'615': datetime.datetime(2015, 3, 5, 0, 0), u'513': datetime.datetime(2015, 5, 28, 0, 0), u'1285': datetime.datetime(2015, 4, 7, 0, 0), u'1287': datetime.datetime(2015, 1, 13, 0, 0), u'948': datetime.datetime(2015, 5, 6, 0, 0), u'1282': datetime.datetime(2015, 5, 10, 0, 0), u'946': datetime.datetime(2015, 8, 11, 0, 0), u'1289': datetime.datetime(2014, 12, 4, 0, 0), u'404': datetime.datetime(2015, 4, 8, 0, 0), u'941': datetime.datetime(2015, 3, 10, 0, 0), u'689': datetime.datetime(2015, 7, 17, 0, 0), u'1001': datetime.datetime(2015, 7, 9, 0, 0), u'687': datetime.datetime(2015, 7, 20, 0, 0), u'1000': datetime.datetime(2015, 7, 11, 0, 0), u'682': datetime.datetime(2015, 4, 8, 0, 0), u'458': datetime.datetime(2015, 4, 6, 0, 0), u'1302': datetime.datetime(2015, 7, 18, 0, 0), u'1303': datetime.datetime(2015, 2, 3, 0, 0), u'133': datetime.datetime(2015, 6, 8, 0, 0), u'132': datetime.datetime(2015, 3, 4, 0, 0), u'131': datetime.datetime(2014, 11, 14, 0, 0), u'130': datetime.datetime(2015, 4, 1, 0, 0), u'498': datetime.datetime(2015, 7, 9, 0, 0), u'499': datetime.datetime(2015, 2, 6, 0, 0), u'135': datetime.datetime(2014, 11, 14, 0, 0), u'134': datetime.datetime(2015, 2, 5, 0, 0), u'494': datetime.datetime(2015, 2, 9, 0, 0), u'495': datetime.datetime(2014, 12, 4, 0, 0), u'139': datetime.datetime(2015, 3, 6, 0, 0), u'138': datetime.datetime(2015, 4, 8, 0, 0), u'490': datetime.datetime(2015, 5, 13, 0, 0), u'491': datetime.datetime(2015, 5, 12, 0, 0), u'492': datetime.datetime(2015, 3, 10, 0, 0), u'493': datetime.datetime(2015, 2, 5, 0, 0), u'24': datetime.datetime(2014, 12, 3, 0, 0), u'25': datetime.datetime(2014, 11, 11, 0, 0), u'26': datetime.datetime(2015, 2, 11, 0, 0), u'27': datetime.datetime(2015, 5, 11, 0, 0), u'20': datetime.datetime(2015, 5, 11, 0, 0), u'21': datetime.datetime(2015, 7, 17, 0, 0), u'22': datetime.datetime(2015, 4, 3, 0, 0), u'23': datetime.datetime(2014, 11, 10, 0, 0), u'1243': datetime.datetime(2014, 11, 10, 0, 0), u'1220': datetime.datetime(2014, 11, 10, 0, 0), u'28': datetime.datetime(2015, 1, 12, 0, 0), u'29': datetime.datetime(2015, 7, 16, 0, 0), u'407': datetime.datetime(2015, 5, 6, 0, 0), u'406': datetime.datetime(2015, 5, 10, 0, 0), u'939': datetime.datetime(2015, 4, 24, 0, 0), u'938': datetime.datetime(2014, 11, 14, 0, 0), u'403': datetime.datetime(2015, 7, 16, 0, 0), u'402': datetime.datetime(2015, 3, 10, 0, 0), u'401': datetime.datetime(2015, 4, 24, 0, 0), u'400': datetime.datetime(2015, 4, 1, 0, 0), u'932': datetime.datetime(2014, 12, 9, 0, 0), u'931': datetime.datetime(2015, 8, 11, 0, 0), u'937': datetime.datetime(2015, 5, 6, 0, 0), u'629': datetime.datetime(2015, 6, 9, 0, 0), u'409': datetime.datetime(2015, 3, 6, 0, 0), u'408': datetime.datetime(2015, 4, 1, 0, 0), u'628': datetime.datetime(2015, 6, 9, 0, 0), u'414': datetime.datetime(2015, 6, 7, 0, 0), u'158': datetime.datetime(2015, 4, 4, 0, 0), u'457': datetime.datetime(2015, 3, 10, 0, 0), u'183': datetime.datetime(2015, 4, 1, 0, 0), u'379': datetime.datetime(2015, 4, 7, 0, 0), u'378': datetime.datetime(2015, 3, 10, 0, 0), u'228': datetime.datetime(2015, 5, 7, 0, 0), u'829': datetime.datetime(2014, 11, 15, 0, 0), u'828': datetime.datetime(2015, 3, 9, 0, 0), u'371': datetime.datetime(2015, 1, 13, 0, 0), u'824': datetime.datetime(2015, 2, 10, 0, 0), u'373': datetime.datetime(2015, 1, 12, 0, 0), u'372': datetime.datetime(2015, 3, 6, 0, 0), u'375': datetime.datetime(2015, 3, 9, 0, 0), u'374': datetime.datetime(2015, 2, 6, 0, 0), u'377': datetime.datetime(2014, 12, 5, 0, 0), u'822': datetime.datetime(2015, 7, 18, 0, 0), u'1177': datetime.datetime(2015, 3, 11, 0, 0), u'709': datetime.datetime(2015, 2, 8, 0, 0), u'1176': datetime.datetime(2015, 8, 12, 0, 0), u'704': datetime.datetime(2015, 5, 6, 0, 0), u'705': datetime.datetime(2015, 4, 8, 0, 0), u'706': datetime.datetime(2015, 4, 7, 0, 0), u'144': datetime.datetime(2015, 3, 6, 0, 0), u'702': datetime.datetime(2015, 3, 10, 0, 0), u'393': datetime.datetime(2015, 7, 18, 0, 0), u'392': datetime.datetime(2015, 4, 2, 0, 0), u'88': datetime.datetime(2015, 3, 10, 0, 0), u'390': datetime.datetime(2014, 11, 10, 0, 0), u'397': datetime.datetime(2015, 4, 1, 0, 0), u'396': datetime.datetime(2015, 4, 24, 0, 0), u'395': datetime.datetime(2015, 4, 8, 0, 0), u'394': datetime.datetime(2014, 11, 10, 0, 0), u'82': datetime.datetime(2015, 3, 5, 0, 0), u'181': datetime.datetime(2015, 3, 10, 0, 0), u'399': datetime.datetime(2015, 5, 12, 0, 0), u'81': datetime.datetime(2014, 11, 10, 0, 0), u'86': datetime.datetime(2015, 4, 2, 0, 0), u'87': datetime.datetime(2015, 1, 12, 0, 0), u'84': datetime.datetime(2015, 5, 6, 0, 0), u'85': datetime.datetime(2014, 11, 11, 0, 0), u'797': datetime.datetime(2015, 4, 24, 0, 0), u'796': datetime.datetime(2015, 4, 7, 0, 0), u'794': datetime.datetime(2015, 8, 13, 0, 0), u'793': datetime.datetime(2015, 2, 10, 0, 0), u'792': datetime.datetime(2015, 2, 9, 0, 0), u'791': datetime.datetime(2015, 1, 8, 0, 0), u'1170': datetime.datetime(2015, 4, 5, 0, 0), u'798': datetime.datetime(2015, 7, 19, 0, 0), u'651': datetime.datetime(2015, 4, 6, 0, 0), u'7': datetime.datetime(2015, 5, 12, 0, 0), u'854': datetime.datetime(2015, 8, 23, 0, 0), u'586': datetime.datetime(2015, 3, 10, 0, 0), u'587': datetime.datetime(2015, 5, 28, 0, 0), u'584': datetime.datetime(2015, 3, 10, 0, 0), u'585': datetime.datetime(2015, 4, 1, 0, 0), u'582': datetime.datetime(2014, 11, 10, 0, 0), u'583': datetime.datetime(2014, 12, 8, 0, 0), u'580': datetime.datetime(2014, 11, 10, 0, 0), u'581': datetime.datetime(2014, 12, 7, 0, 0), u'1274': datetime.datetime(2015, 7, 8, 0, 0), u'1131': datetime.datetime(2015, 7, 16, 0, 0), u'1130': datetime.datetime(2014, 12, 3, 0, 0), u'1136': datetime.datetime(2015, 8, 18, 0, 0), u'588': datetime.datetime(2015, 4, 2, 0, 0), u'589': datetime.datetime(2015, 2, 5, 0, 0), u'245': datetime.datetime(2014, 11, 14, 0, 0), u'244': datetime.datetime(2014, 12, 4, 0, 0), u'246': datetime.datetime(2015, 4, 1, 0, 0), u'241': datetime.datetime(2014, 12, 8, 0, 0), u'240': datetime.datetime(2015, 4, 24, 0, 0), u'243': datetime.datetime(2014, 11, 16, 0, 0), u'242': datetime.datetime(2015, 5, 11, 0, 0), u'149': datetime.datetime(2015, 3, 11, 0, 0), u'606': datetime.datetime(2015, 4, 8, 0, 0), u'248': datetime.datetime(2015, 6, 9, 0, 0), u'1298': datetime.datetime(2015, 8, 11, 0, 0), u'924': datetime.datetime(2015, 8, 11, 0, 0), u'391': datetime.datetime(2015, 2, 10, 0, 0), u'518': datetime.datetime(2015, 6, 8, 0, 0), u'1009': datetime.datetime(2014, 12, 5, 0, 0), u'511': datetime.datetime(2015, 5, 11, 0, 0), u'510': datetime.datetime(2015, 2, 5, 0, 0), u'601': datetime.datetime(2014, 11, 10, 0, 0), u'512': datetime.datetime(2014, 11, 10, 0, 0), u'515': datetime.datetime(2015, 1, 8, 0, 0), u'1002': datetime.datetime(2015, 5, 7, 0, 0), u'517': datetime.datetime(2015, 3, 6, 0, 0), u'516': datetime.datetime(2015, 5, 11, 0, 0), u'623': datetime.datetime(2015, 1, 8, 0, 0), u'622': datetime.datetime(2015, 1, 8, 0, 0), u'621': datetime.datetime(2015, 5, 12, 0, 0), u'620': datetime.datetime(2014, 11, 10, 0, 0), u'627': datetime.datetime(2014, 11, 16, 0, 0), u'626': datetime.datetime(2015, 3, 4, 0, 0), u'625': datetime.datetime(2015, 4, 2, 0, 0), u'624': datetime.datetime(2015, 3, 4, 0, 0), u'450': datetime.datetime(2014, 12, 7, 0, 0), u'451': datetime.datetime(2015, 4, 1, 0, 0), u'452': datetime.datetime(2015, 6, 4, 0, 0), u'453': datetime.datetime(2014, 12, 8, 0, 0), u'454': datetime.datetime(2015, 5, 12, 0, 0), u'455': datetime.datetime(2015, 4, 1, 0, 0), u'456': datetime.datetime(2015, 6, 7, 0, 0), u'1228': datetime.datetime(2015, 8, 19, 0, 0), u'179': datetime.datetime(2014, 11, 10, 0, 0), u'178': datetime.datetime(2014, 11, 17, 0, 0), u'600': datetime.datetime(2015, 4, 7, 0, 0), u'199': datetime.datetime(2015, 5, 30, 0, 0), u'175': datetime.datetime(2015, 5, 9, 0, 0), u'174': datetime.datetime(2014, 12, 3, 0, 0), u'173': datetime.datetime(2015, 5, 7, 0, 0), u'172': datetime.datetime(2015, 3, 10, 0, 0), u'171': datetime.datetime(2015, 3, 8, 0, 0), u'170': datetime.datetime(2015, 1, 9, 0, 0), u'977': datetime.datetime(2015, 5, 12, 0, 0), u'976': datetime.datetime(2014, 12, 4, 0, 0), u'975': datetime.datetime(2015, 8, 23, 0, 0), u'973': datetime.datetime(2015, 7, 13, 0, 0), u'972': datetime.datetime(2015, 3, 10, 0, 0), u'657': datetime.datetime(2015, 3, 10, 0, 0), u'1080': datetime.datetime(2015, 7, 17, 0, 0), u'979': datetime.datetime(2015, 7, 17, 0, 0), u'656': datetime.datetime(2015, 5, 12, 0, 0), u'599': datetime.datetime(2015, 4, 2, 0, 0), u'180': datetime.datetime(2015, 3, 10, 0, 0), u'655': datetime.datetime(2014, 11, 10, 0, 0), u'186': datetime.datetime(2014, 11, 14, 0, 0), u'187': datetime.datetime(2014, 11, 12, 0, 0), u'650': datetime.datetime(2015, 3, 4, 0, 0), u'194': datetime.datetime(2014, 11, 10, 0, 0), u'652': datetime.datetime(2015, 3, 10, 0, 0), u'188': datetime.datetime(2014, 11, 16, 0, 0), u'189': datetime.datetime(2015, 5, 12, 0, 0), u'653': datetime.datetime(2015, 7, 8, 0, 0), u'196': datetime.datetime(2015, 6, 3, 0, 0), u'184': datetime.datetime(2015, 5, 12, 0, 0), u'191': datetime.datetime(2015, 3, 10, 0, 0), u'185': datetime.datetime(2015, 4, 1, 0, 0), u'190': datetime.datetime(2015, 4, 8, 0, 0), u'602': datetime.datetime(2015, 2, 6, 0, 0), u'1089': datetime.datetime(2015, 4, 6, 0, 0), u'192': datetime.datetime(2015, 5, 9, 0, 0), u'1227': datetime.datetime(2015, 6, 9, 0, 0), u'11': datetime.datetime(2015, 4, 24, 0, 0), u'10': datetime.datetime(2014, 11, 10, 0, 0), u'13': datetime.datetime(2015, 4, 1, 0, 0), u'12': datetime.datetime(2014, 11, 10, 0, 0), u'15': datetime.datetime(2015, 3, 4, 0, 0), u'14': datetime.datetime(2015, 6, 3, 0, 0), u'17': datetime.datetime(2015, 5, 11, 0, 0), u'16': datetime.datetime(2015, 5, 13, 0, 0), u'19': datetime.datetime(2015, 4, 6, 0, 0), u'18': datetime.datetime(2014, 11, 10, 0, 0), u'864': datetime.datetime(2014, 11, 10, 0, 0), u'867': datetime.datetime(2014, 12, 9, 0, 0), u'866': datetime.datetime(2014, 12, 7, 0, 0), u'1226': datetime.datetime(2015, 4, 8, 0, 0), u'883': datetime.datetime(2015, 7, 19, 0, 0), u'882': datetime.datetime(2014, 11, 10, 0, 0), u'880': datetime.datetime(2015, 8, 23, 0, 0), u'887': datetime.datetime(2015, 6, 8, 0, 0), u'885': datetime.datetime(2015, 7, 16, 0, 0), u'569': datetime.datetime(2015, 6, 2, 0, 0), u'62': datetime.datetime(2014, 12, 8, 0, 0), u'888': datetime.datetime(2015, 6, 9, 0, 0), u'940': datetime.datetime(2015, 8, 13, 0, 0), u'648': datetime.datetime(2015, 5, 11, 0, 0), u'1115': datetime.datetime(2015, 4, 8, 0, 0), u'755': datetime.datetime(2014, 11, 10, 0, 0), u'63': datetime.datetime(2015, 5, 28, 0, 0), u'1081': datetime.datetime(2015, 6, 8, 0, 0), u'322': datetime.datetime(2015, 3, 10, 0, 0), u'323': datetime.datetime(2014, 11, 10, 0, 0), u'320': datetime.datetime(2015, 5, 7, 0, 0), u'321': datetime.datetime(2014, 11, 15, 0, 0), u'326': datetime.datetime(2015, 7, 9, 0, 0), u'327': datetime.datetime(2014, 11, 14, 0, 0), u'324': datetime.datetime(2015, 7, 9, 0, 0), u'325': datetime.datetime(2015, 7, 19, 0, 0), u'1224': datetime.datetime(2015, 7, 20, 0, 0), u'328': datetime.datetime(2014, 11, 10, 0, 0), u'329': datetime.datetime(2015, 2, 3, 0, 0), u'562': datetime.datetime(2014, 11, 10, 0, 0), u'201': datetime.datetime(2015, 4, 24, 0, 0), u'200': datetime.datetime(2015, 5, 12, 0, 0), u'203': datetime.datetime(2015, 5, 12, 0, 0), u'202': datetime.datetime(2014, 12, 3, 0, 0), u'771': datetime.datetime(2015, 5, 13, 0, 0), u'204': datetime.datetime(2014, 11, 10, 0, 0), u'207': datetime.datetime(2015, 1, 7, 0, 0), u'206': datetime.datetime(2014, 11, 10, 0, 0), u'209': datetime.datetime(2014, 12, 5, 0, 0), u'208': datetime.datetime(2015, 3, 8, 0, 0), u'779': datetime.datetime(2015, 5, 10, 0, 0), u'778': datetime.datetime(2014, 12, 7, 0, 0), u'77': datetime.datetime(2015, 1, 7, 0, 0), u'76': datetime.datetime(2014, 11, 15, 0, 0), u'75': datetime.datetime(2015, 4, 1, 0, 0), u'74': datetime.datetime(2014, 11, 15, 0, 0), u'73': datetime.datetime(2015, 5, 28, 0, 0), u'72': datetime.datetime(2014, 11, 10, 0, 0), u'71': datetime.datetime(2015, 4, 7, 0, 0), u'70': datetime.datetime(2015, 2, 9, 0, 0), u'79': datetime.datetime(2014, 12, 9, 0, 0), u'78': datetime.datetime(2014, 12, 8, 0, 0), u'2': datetime.datetime(2015, 6, 8, 0, 0), u'1042': datetime.datetime(2015, 5, 28, 0, 0), u'1040': datetime.datetime(2015, 5, 12, 0, 0), u'1049': datetime.datetime(2015, 2, 10, 0, 0), u'1048': datetime.datetime(2015, 3, 11, 0, 0), u'805': datetime.datetime(2015, 8, 11, 0, 0), u'804': datetime.datetime(2015, 6, 9, 0, 0), u'1142': datetime.datetime(2015, 1, 14, 0, 0), u'1143': datetime.datetime(2015, 8, 11, 0, 0), u'1140': datetime.datetime(2015, 1, 10, 0, 0), u'1268': datetime.datetime(2015, 4, 6, 0, 0), u'1146': datetime.datetime(2014, 11, 16, 0, 0), u'1147': datetime.datetime(2015, 7, 19, 0, 0), u'1144': datetime.datetime(2015, 8, 18, 0, 0), u'1305': datetime.datetime(2015, 5, 12, 0, 0), u'667': datetime.datetime(2014, 12, 9, 0, 0), u'666': datetime.datetime(2015, 2, 9, 0, 0), u'665': datetime.datetime(2015, 5, 12, 0, 0), u'1260': datetime.datetime(2015, 3, 11, 0, 0), u'1267': datetime.datetime(2015, 4, 2, 0, 0), u'1266': datetime.datetime(2015, 6, 7, 0, 0), u'1265': datetime.datetime(2015, 5, 12, 0, 0), u'1264': datetime.datetime(2015, 4, 2, 0, 0), u'769': datetime.datetime(2015, 4, 3, 0, 0), u'1278': datetime.datetime(2015, 7, 17, 0, 0), u'692': datetime.datetime(2015, 2, 11, 0, 0), u'693': datetime.datetime(2015, 1, 14, 0, 0), u'690': datetime.datetime(2015, 2, 5, 0, 0), u'696': datetime.datetime(2014, 11, 10, 0, 0), u'697': datetime.datetime(2014, 12, 8, 0, 0), u'694': datetime.datetime(2015, 7, 10, 0, 0), u'698': datetime.datetime(2015, 1, 8, 0, 0), u'542': datetime.datetime(2015, 7, 10, 0, 0), u'543': datetime.datetime(2015, 4, 1, 0, 0), u'540': datetime.datetime(2015, 5, 8, 0, 0), u'541': datetime.datetime(2014, 11, 12, 0, 0), u'546': datetime.datetime(2014, 12, 5, 0, 0), u'547': datetime.datetime(2014, 12, 9, 0, 0), u'544': datetime.datetime(2014, 11, 10, 0, 0), u'545': datetime.datetime(2015, 5, 28, 0, 0), u'8': datetime.datetime(2015, 5, 6, 0, 0), u'548': datetime.datetime(2015, 7, 20, 0, 0), u'549': datetime.datetime(2014, 12, 3, 0, 0), u'68': datetime.datetime(2015, 5, 13, 0, 0), u'521': datetime.datetime(2015, 4, 8, 0, 0), u'990': datetime.datetime(2015, 8, 23, 0, 0), u'868': datetime.datetime(2014, 11, 16, 0, 0), u'120': datetime.datetime(2015, 5, 11, 0, 0), u'121': datetime.datetime(2015, 6, 7, 0, 0), u'122': datetime.datetime(2015, 7, 17, 0, 0), u'123': datetime.datetime(2015, 3, 10, 0, 0), u'124': datetime.datetime(2015, 5, 31, 0, 0), u'125': datetime.datetime(2015, 1, 13, 0, 0), u'126': datetime.datetime(2014, 11, 14, 0, 0), u'127': datetime.datetime(2015, 4, 24, 0, 0), u'128': datetime.datetime(2015, 6, 8, 0, 0), u'129': datetime.datetime(2015, 5, 11, 0, 0), u'219': datetime.datetime(2015, 6, 6, 0, 0), u'176': datetime.datetime(2015, 7, 8, 0, 0), u'259': datetime.datetime(2015, 4, 7, 0, 0), u'1022': datetime.datetime(2015, 8, 20, 0, 0), u'529': datetime.datetime(2014, 12, 8, 0, 0), u'928': datetime.datetime(2015, 5, 11, 0, 0), u'415': datetime.datetime(2015, 3, 10, 0, 0), u'416': datetime.datetime(2015, 4, 8, 0, 0), u'417': datetime.datetime(2015, 8, 12, 0, 0), u'410': datetime.datetime(2015, 5, 12, 0, 0), u'411': datetime.datetime(2015, 4, 8, 0, 0), u'412': datetime.datetime(2015, 3, 10, 0, 0), u'413': datetime.datetime(2015, 2, 6, 0, 0), u'920': datetime.datetime(2015, 4, 12, 0, 0), u'137': datetime.datetime(2014, 12, 6, 0, 0), u'923': datetime.datetime(2015, 3, 10, 0, 0), u'418': datetime.datetime(2015, 1, 11, 0, 0), u'419': datetime.datetime(2014, 11, 17, 0, 0), u'136': datetime.datetime(2015, 4, 8, 0, 0), u'319': datetime.datetime(2014, 12, 30, 0, 0), u'318': datetime.datetime(2015, 6, 5, 0, 0), u'313': datetime.datetime(2015, 2, 5, 0, 0), u'1182': datetime.datetime(2015, 5, 11, 0, 0), u'311': datetime.datetime(2014, 11, 16, 0, 0), u'310': datetime.datetime(2015, 4, 6, 0, 0), u'317': datetime.datetime(2015, 7, 9, 0, 0), u'316': datetime.datetime(2014, 12, 6, 0, 0), u'315': datetime.datetime(2014, 11, 10, 0, 0), u'1028': datetime.datetime(2015, 8, 21, 0, 0), u'496': datetime.datetime(2015, 6, 3, 0, 0), u'832': datetime.datetime(2015, 7, 16, 0, 0), u'833': datetime.datetime(2015, 2, 9, 0, 0), u'831': datetime.datetime(2014, 12, 3, 0, 0), u'836': datetime.datetime(2015, 7, 16, 0, 0), u'834': datetime.datetime(2015, 8, 13, 0, 0), u'835': datetime.datetime(2014, 12, 3, 0, 0), u'839': datetime.datetime(2014, 11, 13, 0, 0), u'808': datetime.datetime(2014, 12, 8, 0, 0), u'3': datetime.datetime(2015, 3, 10, 0, 0), u'368': datetime.datetime(2014, 11, 10, 0, 0), u'369': datetime.datetime(2014, 11, 10, 0, 0), u'366': datetime.datetime(2015, 3, 10, 0, 0), u'367': datetime.datetime(2014, 11, 11, 0, 0), u'364': datetime.datetime(2014, 12, 5, 0, 0), u'365': datetime.datetime(2015, 5, 13, 0, 0), u'362': datetime.datetime(2015, 2, 5, 0, 0), u'363': datetime.datetime(2015, 4, 2, 0, 0), u'360': datetime.datetime(2015, 5, 6, 0, 0), u'361': datetime.datetime(2015, 5, 13, 0, 0), u'218': datetime.datetime(2015, 7, 8, 0, 0), u'1050': datetime.datetime(2015, 8, 11, 0, 0), u'380': datetime.datetime(2014, 12, 8, 0, 0), u'381': datetime.datetime(2015, 2, 9, 0, 0), u'382': datetime.datetime(2015, 5, 6, 0, 0), u'383': datetime.datetime(2015, 1, 7, 0, 0), u'384': datetime.datetime(2015, 6, 8, 0, 0), u'385': datetime.datetime(2015, 5, 8, 0, 0), u'386': datetime.datetime(2015, 4, 8, 0, 0), u'387': datetime.datetime(2015, 4, 24, 0, 0), u'388': datetime.datetime(2014, 12, 8, 0, 0), u'389': datetime.datetime(2014, 11, 15, 0, 0), u'784': datetime.datetime(2015, 8, 17, 0, 0), u'785': datetime.datetime(2015, 3, 10, 0, 0), u'786': datetime.datetime(2015, 4, 2, 0, 0), u'787': datetime.datetime(2014, 11, 16, 0, 0), u'780': datetime.datetime(2015, 1, 11, 0, 0), u'781': datetime.datetime(2015, 4, 2, 0, 0), u'782': datetime.datetime(2015, 7, 17, 0, 0), u'605': datetime.datetime(2015, 2, 6, 0, 0), u'579': datetime.datetime(2014, 11, 15, 0, 0), u'578': datetime.datetime(2015, 4, 2, 0, 0), u'604': datetime.datetime(2014, 11, 10, 0, 0), u'573': datetime.datetime(2015, 6, 7, 0, 0), u'572': datetime.datetime(2015, 5, 28, 0, 0), u'571': datetime.datetime(2014, 12, 8, 0, 0), u'570': datetime.datetime(2014, 12, 7, 0, 0), u'577': datetime.datetime(2015, 2, 5, 0, 0), u'576': datetime.datetime(2014, 11, 10, 0, 0), u'575': datetime.datetime(2015, 7, 17, 0, 0), u'574': datetime.datetime(2015, 4, 24, 0, 0), u'60': datetime.datetime(2015, 4, 1, 0, 0), u'102': datetime.datetime(2014, 11, 10, 0, 0), u'258': datetime.datetime(2014, 11, 10, 0, 0), u'152': datetime.datetime(2014, 11, 17, 0, 0), u'64': datetime.datetime(2014, 12, 6, 0, 0), u'65': datetime.datetime(2014, 11, 16, 0, 0), u'66': datetime.datetime(2015, 1, 7, 0, 0), u'67': datetime.datetime(2015, 1, 7, 0, 0), u'252': datetime.datetime(2015, 5, 12, 0, 0), u'253': datetime.datetime(2015, 1, 14, 0, 0), u'250': datetime.datetime(2015, 1, 12, 0, 0), u'251': datetime.datetime(2015, 4, 8, 0, 0), u'256': datetime.datetime(2015, 4, 1, 0, 0), u'257': datetime.datetime(2014, 11, 15, 0, 0), u'254': datetime.datetime(2014, 11, 14, 0, 0), u'154': datetime.datetime(2015, 5, 9, 0, 0), u'157': datetime.datetime(2015, 3, 10, 0, 0), u'1163': datetime.datetime(2015, 5, 6, 0, 0), u'632': datetime.datetime(2015, 4, 7, 0, 0), u'405': datetime.datetime(2015, 6, 4, 0, 0), u'730': datetime.datetime(2015, 1, 8, 0, 0), u'1038': datetime.datetime(2015, 4, 4, 0, 0), u'732': datetime.datetime(2015, 1, 12, 0, 0), u'735': datetime.datetime(2015, 4, 14, 0, 0), u'508': datetime.datetime(2015, 3, 4, 0, 0), u'736': datetime.datetime(2014, 12, 4, 0, 0), u'1032': datetime.datetime(2015, 6, 8, 0, 0), u'507': datetime.datetime(2015, 3, 10, 0, 0), u'504': datetime.datetime(2014, 11, 10, 0, 0), u'505': datetime.datetime(2015, 3, 7, 0, 0), u'502': datetime.datetime(2014, 12, 8, 0, 0), u'503': datetime.datetime(2015, 6, 3, 0, 0), u'500': datetime.datetime(2015, 2, 3, 0, 0), u'501': datetime.datetime(2015, 5, 11, 0, 0), u'630': datetime.datetime(2014, 11, 11, 0, 0), u'631': datetime.datetime(2015, 5, 8, 0, 0), u'1210': datetime.datetime(2015, 2, 7, 0, 0), u'1211': datetime.datetime(2015, 3, 6, 0, 0), u'469': datetime.datetime(2014, 11, 16, 0, 0), u'468': datetime.datetime(2015, 4, 2, 0, 0), u'1214': datetime.datetime(2014, 11, 10, 0, 0), u'637': datetime.datetime(2015, 1, 7, 0, 0), u'465': datetime.datetime(2015, 2, 5, 0, 0), u'639': datetime.datetime(2014, 11, 13, 0, 0), u'467': datetime.datetime(2015, 1, 10, 0, 0), u'466': datetime.datetime(2015, 5, 6, 0, 0), u'461': datetime.datetime(2014, 12, 8, 0, 0), u'460': datetime.datetime(2015, 5, 7, 0, 0), u'463': datetime.datetime(2015, 2, 9, 0, 0), u'462': datetime.datetime(2015, 7, 9, 0, 0), u'901': datetime.datetime(2015, 7, 17, 0, 0), u'168': datetime.datetime(2015, 4, 8, 0, 0), u'169': datetime.datetime(2015, 2, 5, 0, 0), u'164': datetime.datetime(2015, 7, 16, 0, 0), u'165': datetime.datetime(2014, 11, 10, 0, 0), u'166': datetime.datetime(2014, 12, 8, 0, 0), u'167': datetime.datetime(2015, 4, 24, 0, 0), u'160': datetime.datetime(2014, 11, 11, 0, 0), u'161': datetime.datetime(2014, 11, 12, 0, 0), u'162': datetime.datetime(2015, 5, 11, 0, 0), u'163': datetime.datetime(2015, 7, 9, 0, 0), u'965': datetime.datetime(2015, 1, 10, 0, 0), u'966': datetime.datetime(2015, 3, 10, 0, 0), u'967': datetime.datetime(2015, 8, 21, 0, 0), u'969': datetime.datetime(2014, 11, 14, 0, 0), u'1107': datetime.datetime(2014, 11, 11, 0, 0), u'1102': datetime.datetime(2015, 4, 8, 0, 0), u'1103': datetime.datetime(2015, 1, 13, 0, 0), u'934': datetime.datetime(2015, 1, 11, 0, 0), u'686': datetime.datetime(2015, 8, 23, 0, 0), u'30': datetime.datetime(2015, 2, 10, 0, 0), u'678': datetime.datetime(2015, 1, 8, 0, 0), u'514': datetime.datetime(2014, 12, 4, 0, 0), u'609': datetime.datetime(2015, 4, 24, 0, 0), u'641': datetime.datetime(2015, 4, 7, 0, 0), u'877': datetime.datetime(2015, 5, 13, 0, 0), u'874': datetime.datetime(2015, 8, 22, 0, 0), u'872': datetime.datetime(2015, 3, 6, 0, 0), u'873': datetime.datetime(2015, 1, 8, 0, 0), u'1242': datetime.datetime(2015, 3, 10, 0, 0), u'9': datetime.datetime(2015, 1, 8, 0, 0), u'1157': datetime.datetime(2015, 8, 22, 0, 0), u'644': datetime.datetime(2015, 5, 13, 0, 0), u'893': datetime.datetime(2015, 8, 18, 0, 0), u'647': datetime.datetime(2015, 5, 6, 0, 0), u'896': datetime.datetime(2015, 4, 8, 0, 0), u'897': datetime.datetime(2015, 6, 8, 0, 0), u'670': datetime.datetime(2015, 1, 8, 0, 0), u'1087': datetime.datetime(2015, 7, 20, 0, 0), u'646': datetime.datetime(2015, 6, 4, 0, 0), u'1150': datetime.datetime(2015, 7, 16, 0, 0), u'255': datetime.datetime(2015, 5, 6, 0, 0), u'436': datetime.datetime(2015, 2, 8, 0, 0), u'672': datetime.datetime(2014, 11, 14, 0, 0), u'437': datetime.datetime(2015, 4, 2, 0, 0), u'673': datetime.datetime(2015, 6, 1, 0, 0), u'282': datetime.datetime(2014, 11, 14, 0, 0), u'357': datetime.datetime(2015, 1, 11, 0, 0), u'356': datetime.datetime(2015, 1, 9, 0, 0), u'355': datetime.datetime(2015, 7, 17, 0, 0), u'354': datetime.datetime(2014, 11, 10, 0, 0), u'353': datetime.datetime(2015, 4, 24, 0, 0), u'352': datetime.datetime(2015, 2, 5, 0, 0), u'351': datetime.datetime(2015, 3, 8, 0, 0), u'350': datetime.datetime(2015, 1, 7, 0, 0), u'801': datetime.datetime(2014, 12, 8, 0, 0), u'800': datetime.datetime(2015, 3, 4, 0, 0), u'1263': datetime.datetime(2015, 8, 16, 0, 0), u'806': datetime.datetime(2015, 7, 15, 0, 0), u'359': datetime.datetime(2015, 7, 15, 0, 0), u'358': datetime.datetime(2014, 12, 5, 0, 0), u'216': datetime.datetime(2015, 6, 2, 0, 0), u'217': datetime.datetime(2015, 3, 10, 0, 0), u'214': datetime.datetime(2015, 1, 12, 0, 0), u'215': datetime.datetime(2014, 11, 14, 0, 0), u'212': datetime.datetime(2015, 4, 24, 0, 0), u'213': datetime.datetime(2015, 7, 14, 0, 0), u'210': datetime.datetime(2015, 3, 11, 0, 0), u'211': datetime.datetime(2015, 5, 6, 0, 0), u'762': datetime.datetime(2015, 6, 8, 0, 0), u'955': datetime.datetime(2015, 5, 11, 0, 0), u'761': datetime.datetime(2015, 1, 11, 0, 0), u'764': datetime.datetime(2015, 7, 17, 0, 0), u'43': datetime.datetime(2014, 12, 8, 0, 0), u'956': datetime.datetime(2015, 6, 8, 0, 0), u'1178': datetime.datetime(2015, 7, 16, 0, 0), u'438': datetime.datetime(2015, 7, 17, 0, 0), u'1077': datetime.datetime(2014, 12, 8, 0, 0), u'1074': datetime.datetime(2015, 3, 10, 0, 0), u'1075': datetime.datetime(2015, 6, 9, 0, 0), u'1072': datetime.datetime(2015, 4, 2, 0, 0), u'1073': datetime.datetime(2015, 1, 7, 0, 0), u'1070': datetime.datetime(2015, 7, 19, 0, 0), u'1071': datetime.datetime(2014, 11, 10, 0, 0), u'289': datetime.datetime(2015, 4, 7, 0, 0), u'288': datetime.datetime(2014, 12, 3, 0, 0), u'4': datetime.datetime(2015, 5, 12, 0, 0), u'281': datetime.datetime(2014, 11, 14, 0, 0), u'280': datetime.datetime(2014, 11, 15, 0, 0), u'283': datetime.datetime(2014, 11, 15, 0, 0), u'1030': datetime.datetime(2015, 5, 11, 0, 0), u'285': datetime.datetime(2015, 3, 10, 0, 0), u'284': datetime.datetime(2015, 4, 8, 0, 0), u'287': datetime.datetime(2015, 5, 11, 0, 0), u'286': datetime.datetime(2015, 7, 8, 0, 0), u'1094': datetime.datetime(2014, 11, 10, 0, 0), u'1095': datetime.datetime(2015, 6, 6, 0, 0), u'1096': datetime.datetime(2015, 7, 15, 0, 0), u'1090': datetime.datetime(2014, 11, 11, 0, 0), u'674': datetime.datetime(2015, 5, 12, 0, 0), u'1154': datetime.datetime(2015, 4, 5, 0, 0), u'676': datetime.datetime(2015, 4, 13, 0, 0), u'1098': datetime.datetime(2014, 11, 10, 0, 0), u'671': datetime.datetime(2014, 12, 9, 0, 0), u'1153': datetime.datetime(2015, 2, 6, 0, 0), u'330': datetime.datetime(2015, 5, 10, 0, 0), u'263': datetime.datetime(2015, 6, 1, 0, 0), u'262': datetime.datetime(2015, 4, 24, 0, 0), u'261': datetime.datetime(2014, 11, 16, 0, 0), u'260': datetime.datetime(2015, 5, 11, 0, 0), u'267': datetime.datetime(2015, 4, 24, 0, 0), u'266': datetime.datetime(2015, 6, 6, 0, 0), u'265': datetime.datetime(2014, 12, 4, 0, 0), u'264': datetime.datetime(2015, 2, 3, 0, 0), u'269': datetime.datetime(2015, 4, 2, 0, 0), u'268': datetime.datetime(2015, 4, 3, 0, 0), u'182': datetime.datetime(2015, 5, 8, 0, 0), u'1082': datetime.datetime(2015, 3, 6, 0, 0), u'59': datetime.datetime(2015, 1, 10, 0, 0), u'58': datetime.datetime(2015, 5, 9, 0, 0), u'1215': datetime.datetime(2015, 5, 11, 0, 0), u'61': datetime.datetime(2015, 5, 12, 0, 0), u'55': datetime.datetime(2015, 5, 29, 0, 0), u'54': datetime.datetime(2014, 12, 3, 0, 0), u'57': datetime.datetime(2015, 5, 6, 0, 0), u'56': datetime.datetime(2015, 1, 7, 0, 0), u'51': datetime.datetime(2015, 3, 10, 0, 0), u'50': datetime.datetime(2015, 3, 4, 0, 0), u'53': datetime.datetime(2015, 5, 11, 0, 0), u'52': datetime.datetime(2014, 12, 7, 0, 0), u'537': datetime.datetime(2014, 11, 10, 0, 0), u'536': datetime.datetime(2015, 4, 24, 0, 0), u'535': datetime.datetime(2015, 2, 8, 0, 0), u'534': datetime.datetime(2015, 1, 12, 0, 0), u'533': datetime.datetime(2015, 5, 11, 0, 0), u'532': datetime.datetime(2015, 1, 12, 0, 0), u'531': datetime.datetime(2015, 7, 8, 0, 0), u'530': datetime.datetime(2015, 1, 7, 0, 0), u'539': datetime.datetime(2014, 12, 3, 0, 0), u'538': datetime.datetime(2015, 6, 2, 0, 0), u'988': datetime.datetime(2015, 5, 13, 0, 0), u'989': datetime.datetime(2015, 2, 18, 0, 0), u'983': datetime.datetime(2015, 1, 14, 0, 0), u'986': datetime.datetime(2015, 8, 15, 0, 0), u'777': datetime.datetime(2015, 6, 8, 0, 0), u'984': datetime.datetime(2015, 8, 13, 0, 0), u'985': datetime.datetime(2015, 3, 11, 0, 0), u'115': datetime.datetime(2015, 1, 11, 0, 0), u'114': datetime.datetime(2015, 5, 8, 0, 0), u'117': datetime.datetime(2015, 4, 8, 0, 0), u'776': datetime.datetime(2014, 12, 8, 0, 0), u'111': datetime.datetime(2014, 12, 7, 0, 0), u'110': datetime.datetime(2014, 12, 3, 0, 0), u'113': datetime.datetime(2015, 3, 4, 0, 0), u'69': datetime.datetime(2014, 11, 17, 0, 0), u'205': datetime.datetime(2015, 4, 1, 0, 0), u'119': datetime.datetime(2014, 12, 3, 0, 0), u'118': datetime.datetime(2015, 4, 6, 0, 0), u'773': datetime.datetime(2015, 7, 17, 0, 0), u'429': datetime.datetime(2015, 3, 10, 0, 0), u'428': datetime.datetime(2014, 11, 10, 0, 0), u'1254': datetime.datetime(2015, 1, 10, 0, 0), u'919': datetime.datetime(2014, 11, 10, 0, 0), u'1253': datetime.datetime(2014, 11, 10, 0, 0), u'1250': datetime.datetime(2015, 5, 11, 0, 0), u'1251': datetime.datetime(2014, 12, 5, 0, 0), u'421': datetime.datetime(2015, 1, 8, 0, 0), u'420': datetime.datetime(2014, 11, 10, 0, 0), u'423': datetime.datetime(2015, 4, 8, 0, 0), u'916': datetime.datetime(2015, 2, 8, 0, 0), u'425': datetime.datetime(2015, 4, 5, 0, 0), u'424': datetime.datetime(2015, 4, 6, 0, 0), u'913': datetime.datetime(2015, 1, 14, 0, 0), u'1259': datetime.datetime(2015, 1, 13, 0, 0), u'308': datetime.datetime(2014, 11, 16, 0, 0), u'309': datetime.datetime(2014, 11, 10, 0, 0), u'300': datetime.datetime(2014, 12, 3, 0, 0), u'301': datetime.datetime(2014, 11, 10, 0, 0), u'302': datetime.datetime(2015, 4, 24, 0, 0), u'303': datetime.datetime(2015, 5, 11, 0, 0), u'304': datetime.datetime(2015, 5, 10, 0, 0), u'305': datetime.datetime(2015, 3, 10, 0, 0), u'306': datetime.datetime(2015, 4, 8, 0, 0), u'307': datetime.datetime(2015, 2, 10, 0, 0), u'825': datetime.datetime(2015, 5, 9, 0, 0), u'370': datetime.datetime(2015, 4, 24, 0, 0), u'846': datetime.datetime(2015, 5, 12, 0, 0), u'844': datetime.datetime(2015, 4, 7, 0, 0), u'843': datetime.datetime(2015, 6, 2, 0, 0), u'840': datetime.datetime(2015, 8, 21, 0, 0), u'853': datetime.datetime(2015, 7, 17, 0, 0), u'823': datetime.datetime(2015, 4, 8, 0, 0), u'1209': datetime.datetime(2015, 7, 9, 0, 0), u'376': datetime.datetime(2015, 5, 5, 0, 0), u'459': datetime.datetime(2015, 6, 8, 0, 0), u'1249': datetime.datetime(2015, 5, 11, 0, 0), u'142': datetime.datetime(2015, 1, 12, 0, 0), u'1276': datetime.datetime(2015, 3, 10, 0, 0), u'177': datetime.datetime(2015, 4, 10, 0, 0), u'145': datetime.datetime(2014, 11, 10, 0, 0), u'568': datetime.datetime(2014, 11, 10, 0, 0), u'752': datetime.datetime(2014, 11, 10, 0, 0), u'751': datetime.datetime(2015, 8, 11, 0, 0), u'757': datetime.datetime(2015, 1, 11, 0, 0), u'756': datetime.datetime(2014, 11, 15, 0, 0), u'449': datetime.datetime(2015, 4, 3, 0, 0), u'754': datetime.datetime(2015, 8, 21, 0, 0), u'560': datetime.datetime(2014, 12, 6, 0, 0), u'561': datetime.datetime(2015, 2, 5, 0, 0), u'759': datetime.datetime(2015, 2, 3, 0, 0), u'563': datetime.datetime(2014, 12, 3, 0, 0), u'564': datetime.datetime(2015, 4, 8, 0, 0), u'565': datetime.datetime(2015, 6, 8, 0, 0), u'566': datetime.datetime(2015, 5, 12, 0, 0), u'567': datetime.datetime(2015, 1, 12, 0, 0), u'506': datetime.datetime(2014, 11, 10, 0, 0), u'927': datetime.datetime(2015, 5, 13, 0, 0), u'229': datetime.datetime(2015, 1, 7, 0, 0), u'1033': datetime.datetime(2015, 2, 6, 0, 0), u'227': datetime.datetime(2015, 4, 8, 0, 0), u'226': datetime.datetime(2015, 6, 8, 0, 0), u'225': datetime.datetime(2014, 11, 10, 0, 0), u'224': datetime.datetime(2014, 11, 10, 0, 0), u'223': datetime.datetime(2014, 11, 10, 0, 0), u'222': datetime.datetime(2014, 11, 17, 0, 0), u'221': datetime.datetime(2014, 12, 3, 0, 0), u'220': datetime.datetime(2015, 4, 7, 0, 0), u'1031': datetime.datetime(2015, 6, 9, 0, 0), u'1188': datetime.datetime(2015, 2, 10, 0, 0), u'1189': datetime.datetime(2015, 4, 7, 0, 0), u'1036': datetime.datetime(2015, 6, 9, 0, 0), u'1185': datetime.datetime(2015, 5, 13, 0, 0), u'1029': datetime.datetime(2015, 5, 12, 0, 0), u'1183': datetime.datetime(2015, 5, 11, 0, 0), u'1181': datetime.datetime(2014, 12, 5, 0, 0), u'726': datetime.datetime(2015, 4, 8, 0, 0), u'1205': datetime.datetime(2015, 7, 17, 0, 0), u'116': datetime.datetime(2015, 5, 6, 0, 0), u'722': datetime.datetime(2015, 3, 10, 0, 0), u'720': datetime.datetime(2015, 3, 4, 0, 0), u'729': datetime.datetime(2015, 4, 3, 0, 0), u'151': datetime.datetime(2015, 1, 11, 0, 0), u'150': datetime.datetime(2014, 11, 10, 0, 0), u'607': datetime.datetime(2015, 3, 5, 0, 0), u'1167': datetime.datetime(2014, 12, 3, 0, 0), u'1160': datetime.datetime(2014, 12, 5, 0, 0), u'1208': datetime.datetime(2015, 2, 5, 0, 0), u'603': datetime.datetime(2015, 2, 9, 0, 0), u'156': datetime.datetime(2014, 11, 10, 0, 0), u'159': datetime.datetime(2015, 2, 12, 0, 0), u'1204': datetime.datetime(2014, 11, 10, 0, 0), u'1207': datetime.datetime(2015, 2, 6, 0, 0), u'112': datetime.datetime(2015, 5, 8, 0, 0), u'1201': datetime.datetime(2014, 12, 7, 0, 0), u'608': datetime.datetime(2015, 5, 10, 0, 0), u'1202': datetime.datetime(2015, 5, 7, 0, 0), u'633': datetime.datetime(2015, 7, 17, 0, 0), u'83': datetime.datetime(2015, 6, 6, 0, 0), u'1161': datetime.datetime(2014, 11, 13, 0, 0), u'634': datetime.datetime(2014, 12, 9, 0, 0), u'80': datetime.datetime(2015, 6, 7, 0, 0), u'635': datetime.datetime(2015, 5, 7, 0, 0), u'958': datetime.datetime(2015, 3, 4, 0, 0), u'398': datetime.datetime(2015, 5, 11, 0, 0), u'636': datetime.datetime(2015, 3, 5, 0, 0), u'48': datetime.datetime(2015, 7, 16, 0, 0), u'49': datetime.datetime(2015, 4, 24, 0, 0), u'46': datetime.datetime(2014, 12, 8, 0, 0), u'950': datetime.datetime(2015, 7, 19, 0, 0), u'44': datetime.datetime(2015, 3, 10, 0, 0), u'952': datetime.datetime(2015, 2, 11, 0, 0), u'42': datetime.datetime(2015, 3, 4, 0, 0), u'954': datetime.datetime(2014, 11, 10, 0, 0), u'40': datetime.datetime(2015, 7, 15, 0, 0), u'41': datetime.datetime(2015, 5, 13, 0, 0), u'1111': datetime.datetime(2015, 4, 1, 0, 0), u'1110': datetime.datetime(2015, 8, 13, 0, 0), u'1113': datetime.datetime(2015, 5, 6, 0, 0), u'1299': datetime.datetime(2015, 2, 5, 0, 0), u'5': datetime.datetime(2015, 1, 7, 0, 0), u'1117': datetime.datetime(2014, 11, 11, 0, 0), u'464': datetime.datetime(2015, 4, 1, 0, 0), u'1292': datetime.datetime(2015, 1, 7, 0, 0), u'1118': datetime.datetime(2014, 11, 17, 0, 0), u'1290': datetime.datetime(2015, 6, 2, 0, 0), u'591': datetime.datetime(2014, 11, 12, 0, 0), u'1206': datetime.datetime(2015, 6, 3, 0, 0), u'1217': datetime.datetime(2015, 8, 13, 0, 0), u'489': datetime.datetime(2015, 6, 1, 0, 0), u'488': datetime.datetime(2015, 1, 9, 0, 0), u'487': datetime.datetime(2015, 5, 10, 0, 0), u'486': datetime.datetime(2015, 1, 12, 0, 0), u'485': datetime.datetime(2015, 3, 10, 0, 0), u'484': datetime.datetime(2015, 5, 7, 0, 0), u'483': datetime.datetime(2014, 11, 10, 0, 0), u'482': datetime.datetime(2015, 4, 3, 0, 0), u'481': datetime.datetime(2015, 5, 28, 0, 0), u'480': datetime.datetime(2015, 4, 1, 0, 0), u'509': datetime.datetime(2015, 3, 5, 0, 0), u'472': datetime.datetime(2015, 1, 7, 0, 0), u'473': datetime.datetime(2014, 12, 8, 0, 0), u'471': datetime.datetime(2015, 5, 7, 0, 0), u'476': datetime.datetime(2015, 5, 8, 0, 0), u'477': datetime.datetime(2015, 3, 4, 0, 0), u'474': datetime.datetime(2014, 12, 9, 0, 0), u'475': datetime.datetime(2015, 5, 9, 0, 0), u'478': datetime.datetime(2015, 6, 9, 0, 0), u'479': datetime.datetime(2015, 5, 9, 0, 0)}\n"
     ]
    }
   ],
   "source": [
    "#####################################\n",
    "#                 6                 #\n",
    "#####################################\n",
    "\n",
    "## 创建一个叫 paid_students 的字典，并在字典中存储所有还没有取消或者注册时间超过7天的学生。\n",
    "## 字典的键为帐号（account key），值为学生注册的时间。\n",
    "paid_students={}\n",
    "for data_point in non_udacity_enrollments:\n",
    "    if not data_point['is_canceled'] or data_point['days_to_cancel']>7:\n",
    "        paid_students[data_point['account_key']]=data_point['join_date']\n",
    "\n",
    "print len(paid_students)\n",
    "print paid_students"
   ]
  },
  {
   "cell_type": "markdown",
   "metadata": {},
   "source": [
    "## 获取第1周的数据\n",
    "获取第1周的数据"
   ]
  },
  {
   "cell_type": "code",
   "execution_count": 18,
   "metadata": {
    "collapsed": true
   },
   "outputs": [],
   "source": [
    "# 基于学生的加入日期和特定一天的互动记录，若该互动记录发生在学生加入1周内，则反回 True\n",
    "\n",
    "def within_one_week(join_date, engagement_date):\n",
    "    time_delta = engagement_date - join_date\n",
    "    return time_delta.days < 7"
   ]
  },
  {
   "cell_type": "code",
   "execution_count": 28,
   "metadata": {},
   "outputs": [
    {
     "name": "stdout",
     "output_type": "stream",
     "text": [
      "{u'lessons_completed': 0, u'num_courses_visited': 1, u'total_minutes_visited': 11.6793745, u'projects_completed': 0, u'account_key': u'0', u'utc_date': datetime.datetime(2015, 1, 9, 0, 0)}\n",
      "[u'1200', u'1175', u'1269', u'669', u'1257', u'344', u'345', u'346', u'347', u'340', u'341', u'342', u'343', u'811', u'812', u'348', u'349', u'816', u'918', u'1149', u'719', u'718', u'715', u'426', u'713', u'712', u'710', u'661', u'660', u'594', u'422', u'1060', u'1062', u'619', u'1066', u'427', u'298', u'299', u'296', u'297', u'294', u'295', u'292', u'293', u'290', u'291', u'1128', u'590', u'593', u'592', u'595', u'198', u'597', u'596', u'195', u'1121', u'197', u'1123', u'1124', u'1139', u'193', u'1088', u'270', u'271', u'272', u'273', u'274', u'275', u'276', u'277', u'278', u'279', u'497', u'1067', u'524', u'525', u'526', u'527', u'520', u'1019', u'522', u'523', u'1014', u'1015', u'528', u'1011', u'1013', u'1235', u'1236', u'1231', u'443', u'442', u'441', u'440', u'447', u'446', u'445', u'444', u'47', u'108', u'109', u'598', u'103', u'100', u'101', u'106', u'107', u'104', u'105', u'1262', u'900', u'38', u'906', u'905', u'33', u'32', u'31', u'909', u'37', u'36', u'35', u'34', u'1212', u'640', u'643', u'642', u'645', u'1244', u'1247', u'439', u'649', u'1248', u'434', u'435', u'432', u'433', u'430', u'431', u'753', u'339', u'338', u'335', u'334', u'337', u'336', u'331', u'45', u'333', u'332', u'89', u'559', u'1151', u'855', u'856', u'857', u'851', u'852', u'0', u'249', u'858', u'859', u'748', u'6', u'39', u'99', u'98', u'91', u'90', u'93', u'92', u'94', u'97', u'96', u'1216', u'314', u'519', u'153', u'742', u'743', u'744', u'558', u'746', u'747', u'555', u'554', u'557', u'556', u'551', u'550', u'553', u'552', u'238', u'239', u'234', u'235', u'236', u'237', u'230', u'231', u'232', u'233', u'1199', u'1198', u'1052', u'1053', u'1054', u'1055', u'1056', u'1058', u'992', u'1194', u'1', u'614', u'155', u'1099', u'146', u'147', u'618', u'1174', u'1173', u'143', u'140', u'141', u'612', u'613', u'610', u'611', u'616', u'617', u'148', u'1277', u'1007', u'912', u'615', u'513', u'1285', u'1287', u'948', u'1282', u'946', u'1289', u'404', u'941', u'689', u'1001', u'687', u'1000', u'682', u'458', u'1302', u'1303', u'133', u'132', u'131', u'130', u'498', u'499', u'135', u'134', u'494', u'495', u'139', u'138', u'490', u'491', u'492', u'493', u'24', u'25', u'26', u'27', u'20', u'21', u'22', u'23', u'1243', u'1220', u'28', u'29', u'407', u'406', u'939', u'938', u'403', u'402', u'401', u'400', u'932', u'931', u'937', u'629', u'409', u'408', u'628', u'414', u'158', u'457', u'183', u'379', u'378', u'228', u'829', u'828', u'371', u'824', u'373', u'372', u'375', u'374', u'377', u'822', u'1177', u'709', u'1176', u'704', u'705', u'706', u'144', u'702', u'393', u'392', u'88', u'390', u'397', u'396', u'395', u'394', u'82', u'181', u'399', u'81', u'86', u'87', u'84', u'85', u'797', u'796', u'794', u'793', u'792', u'791', u'1170', u'798', u'651', u'7', u'854', u'586', u'587', u'584', u'585', u'582', u'583', u'580', u'581', u'1274', u'1131', u'1130', u'1136', u'588', u'589', u'245', u'244', u'246', u'241', u'240', u'243', u'242', u'149', u'606', u'248', u'1298', u'924', u'391', u'518', u'1009', u'511', u'510', u'601', u'512', u'515', u'1002', u'517', u'516', u'623', u'622', u'621', u'620', u'627', u'626', u'625', u'624', u'450', u'451', u'452', u'453', u'454', u'455', u'456', u'1228', u'179', u'178', u'600', u'199', u'175', u'174', u'173', u'172', u'171', u'170', u'977', u'976', u'975', u'973', u'972', u'657', u'1080', u'979', u'656', u'599', u'180', u'655', u'186', u'187', u'650', u'194', u'652', u'188', u'189', u'653', u'196', u'184', u'191', u'185', u'190', u'602', u'1089', u'192', u'1227', u'11', u'10', u'13', u'12', u'15', u'14', u'17', u'16', u'19', u'18', u'864', u'867', u'866', u'1226', u'883', u'882', u'880', u'887', u'885', u'569', u'62', u'888', u'940', u'648', u'1115', u'755', u'63', u'1081', u'322', u'323', u'320', u'321', u'326', u'327', u'324', u'325', u'1224', u'328', u'329', u'562', u'201', u'200', u'203', u'202', u'771', u'204', u'207', u'206', u'209', u'208', u'779', u'778', u'77', u'76', u'75', u'74', u'73', u'72', u'71', u'70', u'79', u'78', u'2', u'1042', u'1040', u'1049', u'1048', u'805', u'804', u'1142', u'1143', u'1140', u'1268', u'1146', u'1147', u'1144', u'1305', u'667', u'666', u'665', u'1260', u'1267', u'1266', u'1265', u'1264', u'769', u'1278', u'692', u'693', u'690', u'696', u'697', u'694', u'698', u'542', u'543', u'540', u'541', u'546', u'547', u'544', u'545', u'8', u'548', u'549', u'68', u'521', u'990', u'868', u'120', u'121', u'122', u'123', u'124', u'125', u'126', u'127', u'128', u'129', u'219', u'176', u'259', u'1022', u'529', u'928', u'415', u'416', u'417', u'410', u'411', u'412', u'413', u'920', u'137', u'923', u'418', u'419', u'136', u'319', u'318', u'313', u'1182', u'311', u'310', u'317', u'316', u'315', u'1028', u'496', u'832', u'833', u'831', u'836', u'834', u'835', u'839', u'808', u'3', u'368', u'369', u'366', u'367', u'364', u'365', u'362', u'363', u'360', u'361', u'218', u'1050', u'380', u'381', u'382', u'383', u'384', u'385', u'386', u'387', u'388', u'389', u'784', u'785', u'786', u'787', u'780', u'781', u'782', u'605', u'579', u'578', u'604', u'573', u'572', u'571', u'570', u'577', u'576', u'575', u'574', u'60', u'102', u'258', u'152', u'64', u'65', u'66', u'67', u'252', u'253', u'250', u'251', u'256', u'257', u'254', u'154', u'157', u'1163', u'632', u'405', u'730', u'1038', u'732', u'735', u'508', u'736', u'1032', u'507', u'504', u'505', u'502', u'503', u'500', u'501', u'630', u'631', u'1210', u'1211', u'469', u'468', u'1214', u'637', u'465', u'639', u'467', u'466', u'461', u'460', u'463', u'462', u'901', u'168', u'169', u'164', u'165', u'166', u'167', u'160', u'161', u'162', u'163', u'965', u'966', u'967', u'969', u'1107', u'1102', u'1103', u'934', u'686', u'30', u'678', u'514', u'609', u'641', u'877', u'874', u'872', u'873', u'1242', u'9', u'1157', u'644', u'893', u'647', u'896', u'897', u'670', u'1087', u'646', u'1150', u'255', u'436', u'672', u'437', u'673', u'282', u'357', u'356', u'355', u'354', u'353', u'352', u'351', u'350', u'801', u'800', u'1263', u'806', u'359', u'358', u'216', u'217', u'214', u'215', u'212', u'213', u'210', u'211', u'762', u'955', u'761', u'764', u'43', u'956', u'1178', u'438', u'1077', u'1074', u'1075', u'1072', u'1073', u'1070', u'1071', u'289', u'288', u'4', u'281', u'280', u'283', u'1030', u'285', u'284', u'287', u'286', u'1094', u'1095', u'1096', u'1090', u'674', u'1154', u'676', u'1098', u'671', u'1153', u'330', u'263', u'262', u'261', u'260', u'267', u'266', u'265', u'264', u'269', u'268', u'182', u'1082', u'59', u'58', u'1215', u'61', u'55', u'54', u'57', u'56', u'51', u'50', u'53', u'52', u'537', u'536', u'535', u'534', u'533', u'532', u'531', u'530', u'539', u'538', u'988', u'989', u'983', u'986', u'777', u'984', u'985', u'115', u'114', u'117', u'776', u'111', u'110', u'113', u'69', u'205', u'119', u'118', u'773', u'429', u'428', u'1254', u'919', u'1253', u'1250', u'1251', u'421', u'420', u'423', u'916', u'425', u'424', u'913', u'1259', u'308', u'309', u'300', u'301', u'302', u'303', u'304', u'305', u'306', u'307', u'825', u'370', u'846', u'844', u'843', u'840', u'853', u'823', u'1209', u'376', u'459', u'1249', u'142', u'1276', u'177', u'145', u'568', u'752', u'751', u'757', u'756', u'449', u'754', u'560', u'561', u'759', u'563', u'564', u'565', u'566', u'567', u'506', u'927', u'229', u'1033', u'227', u'226', u'225', u'224', u'223', u'222', u'221', u'220', u'1031', u'1188', u'1189', u'1036', u'1185', u'1029', u'1183', u'1181', u'726', u'1205', u'116', u'722', u'720', u'729', u'151', u'150', u'607', u'1167', u'1160', u'1208', u'603', u'156', u'159', u'1204', u'1207', u'112', u'1201', u'608', u'1202', u'633', u'83', u'1161', u'634', u'80', u'635', u'958', u'398', u'636', u'48', u'49', u'46', u'950', u'44', u'952', u'42', u'954', u'40', u'41', u'1111', u'1110', u'1113', u'1299', u'5', u'1117', u'464', u'1292', u'1118', u'1290', u'591', u'1206', u'1217', u'489', u'488', u'487', u'486', u'485', u'484', u'483', u'482', u'481', u'480', u'509', u'472', u'473', u'471', u'476', u'477', u'474', u'475', u'478', u'479']\n"
     ]
    }
   ],
   "source": [
    "#####################################\n",
    "#                 7                 #\n",
    "#####################################\n",
    "\n",
    "## 创建一个 engagement 记录的列表，该列表只包括付费学生以及加入的前7天的学生的记录\n",
    "## 输入符合要求的行数\n",
    "en_rows=[]\n",
    "print non_udacity_engagement[0]\n",
    "print paid_students.keys()\n",
    "# for i in non_udacity_engagement:\n",
    "#     if within_one_week(i['join_date',i['engagement_date']]):\n",
    "#         en_rows.append(i['account_key'])\n",
    "# print en_rows\n",
    "# p_en_rows=[]\n",
    "# for i in en_rows:\n",
    "#     if i in paid_students:\n",
    "#         p_en_rows.append(i)\n",
    "        \n",
    "# paid_engagement_in_first_week = "
   ]
  },
  {
   "cell_type": "markdown",
   "metadata": {},
   "source": [
    "## Exploring Student Engagement"
   ]
  },
  {
   "cell_type": "code",
   "execution_count": null,
   "metadata": {
    "collapsed": true
   },
   "outputs": [],
   "source": [
    "from collections import defaultdict\n",
    "\n",
    "# 创建基于 student 对 engagement 进行分组的字典，字典的键为帐号（account key），值为包含互动记录的列表\n",
    "\n",
    "engagement_by_account = defaultdict(list)\n",
    "for engagement_record in paid_engagement_in_first_week:\n",
    "    account_key = engagement_record['account_key']\n",
    "    engagement_by_account[account_key].append(engagement_record)"
   ]
  },
  {
   "cell_type": "code",
   "execution_count": null,
   "metadata": {
    "collapsed": true
   },
   "outputs": [],
   "source": [
    "# 创建一个包含学生在第1周在教室所花总时间和字典。键为帐号（account key），值为数字（所花总时间）\n",
    "total_minutes_by_account = {}\n",
    "for account_key, engagement_for_student in engagement_by_account.items():\n",
    "    total_minutes = 0\n",
    "    for engagement_record in engagement_for_student:\n",
    "        total_minutes += engagement_record['total_minutes_visited']\n",
    "    total_minutes_by_account[account_key] = total_minutes"
   ]
  },
  {
   "cell_type": "code",
   "execution_count": null,
   "metadata": {
    "collapsed": true
   },
   "outputs": [],
   "source": [
    "import numpy as np\n",
    "\n",
    "# 汇总和描述关于教室所花时间的数据\n",
    "total_minutes = total_minutes_by_account.values()\n",
    "print 'Mean:', np.mean(total_minutes)\n",
    "print 'Standard deviation:', np.std(total_minutes)\n",
    "print 'Minimum:', np.min(total_minutes)\n",
    "print 'Maximum:', np.max(total_minutes)"
   ]
  },
  {
   "cell_type": "markdown",
   "metadata": {},
   "source": [
    "## 纠错现有的数据分析代码"
   ]
  },
  {
   "cell_type": "code",
   "execution_count": null,
   "metadata": {
    "collapsed": true
   },
   "outputs": [],
   "source": [
    "#####################################\n",
    "#                 8                 #\n",
    "#####################################\n",
    "\n",
    "## 通过之前的方法检查是否有问题数据存在。\n",
    "## 定位至少一条异常数据，打印出来并检查。"
   ]
  },
  {
   "cell_type": "markdown",
   "metadata": {},
   "source": [
    "## 第1周完成的课程数（Lessons）"
   ]
  },
  {
   "cell_type": "code",
   "execution_count": null,
   "metadata": {
    "collapsed": true
   },
   "outputs": [],
   "source": [
    "#####################################\n",
    "#                 9                 #\n",
    "#####################################\n",
    "\n",
    "## 修改之前的代码，找出第1周学生完成课程数的 平均值、标准差、最小值、最大值。尝试创建一个或更多的函数来复用之前的代码\n"
   ]
  },
  {
   "cell_type": "markdown",
   "metadata": {},
   "source": [
    "## 第1周的访问次数"
   ]
  },
  {
   "cell_type": "code",
   "execution_count": null,
   "metadata": {
    "collapsed": true
   },
   "outputs": [],
   "source": [
    "######################################\n",
    "#                 10                 #\n",
    "######################################\n",
    "\n",
    "## 找出第1周学生访问教室天数的平均值、标准差、最小值、最大值。"
   ]
  },
  {
   "cell_type": "markdown",
   "metadata": {},
   "source": [
    "## 区分项目通过的学生"
   ]
  },
  {
   "cell_type": "code",
   "execution_count": null,
   "metadata": {
    "collapsed": true
   },
   "outputs": [],
   "source": [
    "######################################\n",
    "#                 11                 #\n",
    "######################################\n",
    "\n",
    "## 创建两个付费学生第1周的互动数据列表（engagement）。第1个包含通过项目的学生，第2个包含没通过项目的学生。\n",
    "\n",
    "subway_project_lesson_keys = ['746169184', '3176718735']\n",
    "\n",
    "passing_engagement =\n",
    "non_passing_engagement ="
   ]
  },
  {
   "cell_type": "markdown",
   "metadata": {},
   "source": [
    "## 对比两组学生数据"
   ]
  },
  {
   "cell_type": "code",
   "execution_count": null,
   "metadata": {
    "collapsed": true
   },
   "outputs": [],
   "source": [
    "######################################\n",
    "#                 12                 #\n",
    "######################################\n",
    "\n",
    "## 计算你所感兴趣的数据指标，并分析通过项目和没有通过项目的两组学生有何异同。\n",
    "## 你可以从我们之前使用过的数据指标开始（教室的访问时间、课程完成数、访问天数）。\n"
   ]
  },
  {
   "cell_type": "markdown",
   "metadata": {},
   "source": [
    "## 制作直方图"
   ]
  },
  {
   "cell_type": "code",
   "execution_count": null,
   "metadata": {
    "collapsed": true
   },
   "outputs": [],
   "source": [
    "######################################\n",
    "#                 13                 #\n",
    "######################################\n",
    "\n",
    "## 针对通过项目和没有通过项目的两组学生，为我们之前研究的三个数据指标制作直方图。\n",
    "## 你也可以为其它你所检验的数据指标来制作直方图。"
   ]
  },
  {
   "cell_type": "markdown",
   "metadata": {},
   "source": [
    "## 改进图表及分享发现"
   ]
  },
  {
   "cell_type": "code",
   "execution_count": null,
   "metadata": {
    "collapsed": true
   },
   "outputs": [],
   "source": [
    "######################################\n",
    "#                 14                 #\n",
    "######################################\n",
    "\n",
    "## 至少改进一幅之前的可视化图表，尝试导入 seaborn 库使你的图表看起来更美观。\n",
    "## 加入轴标签及表头，并修改一个或多个 hist() 内的变量。"
   ]
  }
 ],
 "metadata": {
  "anaconda-cloud": {},
  "kernelspec": {
   "display_name": "Python 2",
   "language": "python",
   "name": "python2"
  },
  "language_info": {
   "codemirror_mode": {
    "name": "ipython",
    "version": 2
   },
   "file_extension": ".py",
   "mimetype": "text/x-python",
   "name": "python",
   "nbconvert_exporter": "python",
   "pygments_lexer": "ipython2",
   "version": "2.7.14"
  }
 },
 "nbformat": 4,
 "nbformat_minor": 1
}
